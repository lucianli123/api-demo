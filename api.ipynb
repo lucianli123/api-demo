{
 "cells": [
  {
   "cell_type": "code",
   "execution_count": 23,
   "metadata": {},
   "outputs": [],
   "source": [
    "import requests\n",
    "import time\n",
    "import pandas as pd"
   ]
  },
  {
   "cell_type": "code",
   "execution_count": 7,
   "metadata": {},
   "outputs": [],
   "source": [
    "# Set the URL you want to call\n",
    "url= \"https://api.agify.io/?name=lucian\""
   ]
  },
  {
   "cell_type": "code",
   "execution_count": 17,
   "metadata": {},
   "outputs": [],
   "source": [
    "#get the response\n",
    "response = requests.get(url)"
   ]
  },
  {
   "cell_type": "code",
   "execution_count": 18,
   "metadata": {},
   "outputs": [
    {
     "data": {
      "text/plain": [
       "<Response [200]>"
      ]
     },
     "execution_count": 18,
     "metadata": {},
     "output_type": "execute_result"
    }
   ],
   "source": [
    "response"
   ]
  },
  {
   "cell_type": "code",
   "execution_count": 19,
   "metadata": {},
   "outputs": [
    {
     "data": {
      "text/plain": [
       "'{\"count\":4932,\"name\":\"lucian\",\"age\":51}'"
      ]
     },
     "execution_count": 19,
     "metadata": {},
     "output_type": "execute_result"
    }
   ],
   "source": [
    "response.text"
   ]
  },
  {
   "cell_type": "code",
   "execution_count": 22,
   "metadata": {},
   "outputs": [
    {
     "data": {
      "text/plain": [
       "2102"
      ]
     },
     "execution_count": 22,
     "metadata": {},
     "output_type": "execute_result"
    }
   ],
   "source": [
    "#read json into dictionary\n",
    "\n",
    "dict=response.json()\n",
    "dict[\"count\"]"
   ]
  },
  {
   "cell_type": "code",
   "execution_count": 24,
   "metadata": {},
   "outputs": [
    {
     "name": "stdout",
     "output_type": "stream",
     "text": [
      "{\"count\":4932,\"name\":\"lucian\",\"age\":51}\n",
      "{\"count\":538601,\"name\":\"maria\",\"age\":60}\n",
      "{\"count\":277407,\"name\":\"john\",\"age\":73}\n",
      "{\"count\":298219,\"name\":\"michael\",\"age\":63}\n",
      "{\"count\":147558,\"name\":\"james\",\"age\":72}\n",
      "{\"count\":20055,\"name\":\"jacob\",\"age\":38}\n",
      "{\"count\":16011,\"name\":\"sophia\",\"age\":40}\n",
      "{\"count\":56913,\"name\":\"emma\",\"age\":41}\n",
      "{\"count\":22999,\"name\":\"olivia\",\"age\":41}\n",
      "{\"count\":2102,\"name\":\"ava\",\"age\":43}\n"
     ]
    }
   ],
   "source": [
    "#repeat with list of names\n",
    "#make dataframe from responses\n",
    "names = [\"lucian\", \"maria\", \"john\", \"michael\", \"james\", \"jacob\", \"sophia\", \"emma\", \"olivia\", \"ava\"]\n",
    "\n",
    "#make a list of dictionaries\n",
    "list_of_dicts = []\n",
    "\n",
    "for name in names:\n",
    "    url = f\"https://api.agify.io/?name={name}\"\n",
    "    response = requests.get(url)\n",
    "    print(response.text)\n",
    "    \n",
    "    dict = response.json()\n",
    "    list_of_dicts.append(dict)\n",
    "\n",
    "\n",
    "    #\n",
    "    #wait for 1 second to avoid being blocked\n",
    "    time.sleep(1)\n",
    "\n",
    "df = pd.DataFrame(list_of_dicts)"
   ]
  },
  {
   "cell_type": "code",
   "execution_count": 25,
   "metadata": {},
   "outputs": [
    {
     "data": {
      "text/html": [
       "<div>\n",
       "<style scoped>\n",
       "    .dataframe tbody tr th:only-of-type {\n",
       "        vertical-align: middle;\n",
       "    }\n",
       "\n",
       "    .dataframe tbody tr th {\n",
       "        vertical-align: top;\n",
       "    }\n",
       "\n",
       "    .dataframe thead th {\n",
       "        text-align: right;\n",
       "    }\n",
       "</style>\n",
       "<table border=\"1\" class=\"dataframe\">\n",
       "  <thead>\n",
       "    <tr style=\"text-align: right;\">\n",
       "      <th></th>\n",
       "      <th>count</th>\n",
       "      <th>name</th>\n",
       "      <th>age</th>\n",
       "    </tr>\n",
       "  </thead>\n",
       "  <tbody>\n",
       "    <tr>\n",
       "      <th>0</th>\n",
       "      <td>4932</td>\n",
       "      <td>lucian</td>\n",
       "      <td>51</td>\n",
       "    </tr>\n",
       "    <tr>\n",
       "      <th>1</th>\n",
       "      <td>538601</td>\n",
       "      <td>maria</td>\n",
       "      <td>60</td>\n",
       "    </tr>\n",
       "    <tr>\n",
       "      <th>2</th>\n",
       "      <td>277407</td>\n",
       "      <td>john</td>\n",
       "      <td>73</td>\n",
       "    </tr>\n",
       "    <tr>\n",
       "      <th>3</th>\n",
       "      <td>298219</td>\n",
       "      <td>michael</td>\n",
       "      <td>63</td>\n",
       "    </tr>\n",
       "    <tr>\n",
       "      <th>4</th>\n",
       "      <td>147558</td>\n",
       "      <td>james</td>\n",
       "      <td>72</td>\n",
       "    </tr>\n",
       "    <tr>\n",
       "      <th>5</th>\n",
       "      <td>20055</td>\n",
       "      <td>jacob</td>\n",
       "      <td>38</td>\n",
       "    </tr>\n",
       "    <tr>\n",
       "      <th>6</th>\n",
       "      <td>16011</td>\n",
       "      <td>sophia</td>\n",
       "      <td>40</td>\n",
       "    </tr>\n",
       "    <tr>\n",
       "      <th>7</th>\n",
       "      <td>56913</td>\n",
       "      <td>emma</td>\n",
       "      <td>41</td>\n",
       "    </tr>\n",
       "    <tr>\n",
       "      <th>8</th>\n",
       "      <td>22999</td>\n",
       "      <td>olivia</td>\n",
       "      <td>41</td>\n",
       "    </tr>\n",
       "    <tr>\n",
       "      <th>9</th>\n",
       "      <td>2102</td>\n",
       "      <td>ava</td>\n",
       "      <td>43</td>\n",
       "    </tr>\n",
       "  </tbody>\n",
       "</table>\n",
       "</div>"
      ],
      "text/plain": [
       "    count     name  age\n",
       "0    4932   lucian   51\n",
       "1  538601    maria   60\n",
       "2  277407     john   73\n",
       "3  298219  michael   63\n",
       "4  147558    james   72\n",
       "5   20055    jacob   38\n",
       "6   16011   sophia   40\n",
       "7   56913     emma   41\n",
       "8   22999   olivia   41\n",
       "9    2102      ava   43"
      ]
     },
     "execution_count": 25,
     "metadata": {},
     "output_type": "execute_result"
    }
   ],
   "source": [
    "df"
   ]
  },
  {
   "cell_type": "code",
   "execution_count": 28,
   "metadata": {},
   "outputs": [
    {
     "name": "stdout",
     "output_type": "stream",
     "text": [
      "{\"status_code\":7,\"status_message\":\"Invalid API key: You must be granted a valid key.\",\"success\":false}\n",
      "\n"
     ]
    }
   ],
   "source": [
    "url = \"https://api.themoviedb.org/3/discover/movie?include_adult=false&language=en-US&page=1&sort_by=popularity.desc\"\n",
    "\n",
    "response = requests.get(url)\n",
    "\n",
    "print(response.text)"
   ]
  },
  {
   "cell_type": "code",
   "execution_count": 42,
   "metadata": {},
   "outputs": [],
   "source": [
    "# add your own api key\n",
    "api_key = "
   ]
  },
  {
   "cell_type": "code",
   "execution_count": 49,
   "metadata": {},
   "outputs": [],
   "source": [
    "#please replace <<your_key_here>> with your own key\n",
    "url = f\"https://api.themoviedb.org/3/discover/movie?api_key={api_key}&language=en-US&sort_by=popularity.desc&include_adult=false&page=1\"\n",
    "\n",
    "response = requests.get(url)"
   ]
  },
  {
   "cell_type": "code",
   "execution_count": 50,
   "metadata": {},
   "outputs": [],
   "source": [
    "dict=response.json()\n"
   ]
  },
  {
   "cell_type": "code",
   "execution_count": 51,
   "metadata": {},
   "outputs": [
    {
     "data": {
      "text/plain": [
       "(20, 14)"
      ]
     },
     "execution_count": 51,
     "metadata": {},
     "output_type": "execute_result"
    }
   ],
   "source": [
    "pd.DataFrame(dict[\"results\"]).shape"
   ]
  },
  {
   "cell_type": "code",
   "execution_count": 52,
   "metadata": {},
   "outputs": [
    {
     "data": {
      "text/html": [
       "<div>\n",
       "<style scoped>\n",
       "    .dataframe tbody tr th:only-of-type {\n",
       "        vertical-align: middle;\n",
       "    }\n",
       "\n",
       "    .dataframe tbody tr th {\n",
       "        vertical-align: top;\n",
       "    }\n",
       "\n",
       "    .dataframe thead th {\n",
       "        text-align: right;\n",
       "    }\n",
       "</style>\n",
       "<table border=\"1\" class=\"dataframe\">\n",
       "  <thead>\n",
       "    <tr style=\"text-align: right;\">\n",
       "      <th></th>\n",
       "      <th>adult</th>\n",
       "      <th>backdrop_path</th>\n",
       "      <th>genre_ids</th>\n",
       "      <th>id</th>\n",
       "      <th>original_language</th>\n",
       "      <th>original_title</th>\n",
       "      <th>overview</th>\n",
       "      <th>popularity</th>\n",
       "      <th>poster_path</th>\n",
       "      <th>release_date</th>\n",
       "      <th>title</th>\n",
       "      <th>video</th>\n",
       "      <th>vote_average</th>\n",
       "      <th>vote_count</th>\n",
       "    </tr>\n",
       "  </thead>\n",
       "  <tbody>\n",
       "    <tr>\n",
       "      <th>0</th>\n",
       "      <td>False</td>\n",
       "      <td>/Asg2UUwipAdE87MxtJy7SQo08XI.jpg</td>\n",
       "      <td>[28, 14, 27]</td>\n",
       "      <td>957452</td>\n",
       "      <td>en</td>\n",
       "      <td>The Crow</td>\n",
       "      <td>Soulmates Eric and Shelly are brutally murdere...</td>\n",
       "      <td>2505.846</td>\n",
       "      <td>/58QT4cPJ2u2TqWZkterDq9q4yxQ.jpg</td>\n",
       "      <td>2024-08-21</td>\n",
       "      <td>The Crow</td>\n",
       "      <td>False</td>\n",
       "      <td>5.446</td>\n",
       "      <td>340</td>\n",
       "    </tr>\n",
       "    <tr>\n",
       "      <th>1</th>\n",
       "      <td>False</td>\n",
       "      <td>/9l1eZiJHmhr5jIlthMdJN5WYoff.jpg</td>\n",
       "      <td>[28, 35, 878]</td>\n",
       "      <td>533535</td>\n",
       "      <td>en</td>\n",
       "      <td>Deadpool &amp; Wolverine</td>\n",
       "      <td>A listless Wade Wilson toils away in civilian ...</td>\n",
       "      <td>1930.829</td>\n",
       "      <td>/8cdWjvZQUExUUTzyp4t6EDMubfO.jpg</td>\n",
       "      <td>2024-07-24</td>\n",
       "      <td>Deadpool &amp; Wolverine</td>\n",
       "      <td>False</td>\n",
       "      <td>7.680</td>\n",
       "      <td>3079</td>\n",
       "    </tr>\n",
       "    <tr>\n",
       "      <th>2</th>\n",
       "      <td>False</td>\n",
       "      <td>/9BQqngPfwpeAfK7c2H3cwIFWIVR.jpg</td>\n",
       "      <td>[10749, 18]</td>\n",
       "      <td>1079091</td>\n",
       "      <td>en</td>\n",
       "      <td>It Ends with Us</td>\n",
       "      <td>When a woman's first love suddenly reenters he...</td>\n",
       "      <td>1506.809</td>\n",
       "      <td>/cSMdFWmajaX4oUMLx7HEDI84GkP.jpg</td>\n",
       "      <td>2024-08-07</td>\n",
       "      <td>It Ends with Us</td>\n",
       "      <td>False</td>\n",
       "      <td>6.905</td>\n",
       "      <td>406</td>\n",
       "    </tr>\n",
       "    <tr>\n",
       "      <th>3</th>\n",
       "      <td>False</td>\n",
       "      <td>/dKvvW3euRwUY0Nyl6JBP5tXLPJW.jpg</td>\n",
       "      <td>[16, 10751, 12, 35, 14, 18]</td>\n",
       "      <td>1022789</td>\n",
       "      <td>en</td>\n",
       "      <td>Inside Out 2</td>\n",
       "      <td>Teenager Riley's mind headquarters is undergoi...</td>\n",
       "      <td>1282.570</td>\n",
       "      <td>/vpnVM9B6NMmQpWeZvzLvDESb2QY.jpg</td>\n",
       "      <td>2024-06-11</td>\n",
       "      <td>Inside Out 2</td>\n",
       "      <td>False</td>\n",
       "      <td>7.664</td>\n",
       "      <td>3743</td>\n",
       "    </tr>\n",
       "    <tr>\n",
       "      <th>4</th>\n",
       "      <td>False</td>\n",
       "      <td>/lgkPzcOSnTvjeMnuFzozRO5HHw1.jpg</td>\n",
       "      <td>[16, 10751, 35, 28]</td>\n",
       "      <td>519182</td>\n",
       "      <td>en</td>\n",
       "      <td>Despicable Me 4</td>\n",
       "      <td>Gru and Lucy and their girls—Margo, Edith and ...</td>\n",
       "      <td>1130.468</td>\n",
       "      <td>/wWba3TaojhK7NdycRhoQpsG0FaH.jpg</td>\n",
       "      <td>2024-06-20</td>\n",
       "      <td>Despicable Me 4</td>\n",
       "      <td>False</td>\n",
       "      <td>7.200</td>\n",
       "      <td>1710</td>\n",
       "    </tr>\n",
       "  </tbody>\n",
       "</table>\n",
       "</div>"
      ],
      "text/plain": [
       "   adult                     backdrop_path                    genre_ids  \\\n",
       "0  False  /Asg2UUwipAdE87MxtJy7SQo08XI.jpg                 [28, 14, 27]   \n",
       "1  False  /9l1eZiJHmhr5jIlthMdJN5WYoff.jpg                [28, 35, 878]   \n",
       "2  False  /9BQqngPfwpeAfK7c2H3cwIFWIVR.jpg                  [10749, 18]   \n",
       "3  False  /dKvvW3euRwUY0Nyl6JBP5tXLPJW.jpg  [16, 10751, 12, 35, 14, 18]   \n",
       "4  False  /lgkPzcOSnTvjeMnuFzozRO5HHw1.jpg          [16, 10751, 35, 28]   \n",
       "\n",
       "        id original_language        original_title  \\\n",
       "0   957452                en              The Crow   \n",
       "1   533535                en  Deadpool & Wolverine   \n",
       "2  1079091                en       It Ends with Us   \n",
       "3  1022789                en          Inside Out 2   \n",
       "4   519182                en       Despicable Me 4   \n",
       "\n",
       "                                            overview  popularity  \\\n",
       "0  Soulmates Eric and Shelly are brutally murdere...    2505.846   \n",
       "1  A listless Wade Wilson toils away in civilian ...    1930.829   \n",
       "2  When a woman's first love suddenly reenters he...    1506.809   \n",
       "3  Teenager Riley's mind headquarters is undergoi...    1282.570   \n",
       "4  Gru and Lucy and their girls—Margo, Edith and ...    1130.468   \n",
       "\n",
       "                        poster_path release_date                 title  video  \\\n",
       "0  /58QT4cPJ2u2TqWZkterDq9q4yxQ.jpg   2024-08-21              The Crow  False   \n",
       "1  /8cdWjvZQUExUUTzyp4t6EDMubfO.jpg   2024-07-24  Deadpool & Wolverine  False   \n",
       "2  /cSMdFWmajaX4oUMLx7HEDI84GkP.jpg   2024-08-07       It Ends with Us  False   \n",
       "3  /vpnVM9B6NMmQpWeZvzLvDESb2QY.jpg   2024-06-11          Inside Out 2  False   \n",
       "4  /wWba3TaojhK7NdycRhoQpsG0FaH.jpg   2024-06-20       Despicable Me 4  False   \n",
       "\n",
       "   vote_average  vote_count  \n",
       "0         5.446         340  \n",
       "1         7.680        3079  \n",
       "2         6.905         406  \n",
       "3         7.664        3743  \n",
       "4         7.200        1710  "
      ]
     },
     "execution_count": 52,
     "metadata": {},
     "output_type": "execute_result"
    }
   ],
   "source": [
    "pd.DataFrame(dict[\"results\"]).head(5)"
   ]
  },
  {
   "cell_type": "code",
   "execution_count": 53,
   "metadata": {},
   "outputs": [],
   "source": [
    "#the response in this case in paginated, which means that we need to loop through the pages to get all the results\n",
    "#we can do this by changing the page parameter in the URL\n",
    "\n",
    "#please replace <<your_key_here>> with your own key\n",
    "\n",
    "url = f\"https://api.themoviedb.org/3/discover/movie?api_key={api_key}&language=en-US&sort_by=popularity.desc&include_adult=false&page=1\"\n",
    "\n",
    "response = requests.get(url)\n",
    "\n",
    "dict=response.json()\n",
    "\n",
    "total_pages = dict[\"total_pages\"]\n",
    "\n",
    "list_of_dicts = []\n",
    "\n",
    "for page in range(1, total_pages+1):\n",
    "    url = f\"https://api.themoviedb.org/3/discover/movie?api_key={api_key}&language=en-US&sort_by=popularity.desc&include_adult=false&page={page}\"\n",
    "    response = requests.get(url)\n",
    "    dict = response.json()\n",
    "    list_of_dicts.extend(dict[\"results\"])\n",
    "    time.sleep(1)\n",
    "\n",
    "    #stop early for demo\n",
    "    if page ==10:\n",
    "        break\n",
    "\n"
   ]
  },
  {
   "cell_type": "code",
   "execution_count": 45,
   "metadata": {},
   "outputs": [],
   "source": [
    "df = pd.DataFrame(list_of_dicts)"
   ]
  },
  {
   "cell_type": "code",
   "execution_count": 47,
   "metadata": {},
   "outputs": [
    {
     "data": {
      "text/plain": [
       "(420, 14)"
      ]
     },
     "execution_count": 47,
     "metadata": {},
     "output_type": "execute_result"
    }
   ],
   "source": [
    "df.shape"
   ]
  }
 ],
 "metadata": {
  "kernelspec": {
   "display_name": "base",
   "language": "python",
   "name": "python3"
  },
  "language_info": {
   "codemirror_mode": {
    "name": "ipython",
    "version": 3
   },
   "file_extension": ".py",
   "mimetype": "text/x-python",
   "name": "python",
   "nbconvert_exporter": "python",
   "pygments_lexer": "ipython3",
   "version": "3.11.5"
  }
 },
 "nbformat": 4,
 "nbformat_minor": 2
}
